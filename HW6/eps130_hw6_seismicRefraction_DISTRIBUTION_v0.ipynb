{
 "cells": [
  {
   "cell_type": "markdown",
   "metadata": {},
   "source": [
    "# Seismic Refraction\n",
    "\n",
    "### Introduction\n",
    "\n",
    "Seismic refraction is a method utilizing first arrival traveltime measurements made from a linear array of sensors. This method makes use of the fact that when downward propagating seismic waves interact with deeper and faster layers head waves develop, which travel horizontally along the top of the faster surface. Along a given array profile multiple headwave arrivals can occur and be measured. This method has been applied at scales from 1000 km e.g. the Soviet “peaceful nuclear weapons”program imaging lithospheric scale structure to arrays of 30 m to investigate shallow soil and rock characteristics. There are numerous engineering, resource exploration and environmental applications.\n",
    "\n",
    "### Objective \n",
    "In this exercise, we will investigate the different seismic refraction record sections from the experiment.\n",
    "\n",
    "### Instructions on how to complete this notebook\n",
    "Use the code provided in this Jupyter Notebook to analyze the provided questions in each part of the assignment, and then answer the questions to complete the homework. Submit your completed notebook either in a *.pdf or *.ipynb format. Write your answers either embedded as Markdown inside the notebook, or attached in a separate *.doc or *.pdf document.\n",
    "\n",
    "### Due Date\n",
    "Please submit your homework to natelindsey@berkeley.edu before Tuesday March 19, 2019 at 11:59 pm."
   ]
  },
  {
   "cell_type": "code",
   "execution_count": 153,
   "metadata": {},
   "outputs": [],
   "source": [
    "#Initial Setup and Subroutine Definitions\n",
    "import numpy as np\n",
    "import matplotlib\n",
    "import matplotlib.pyplot as plt\n"
   ]
  },
  {
   "cell_type": "markdown",
   "metadata": {},
   "source": [
    "### Exercise\n",
    "Several years ago a geotechnical engineering consulting company carried out a seismic refraction experiment over a graded building pad to investigate the subsurface velocity structure for forensics of the grading work. Figure 1 illustrates the site. The 24 channel seismic system had sensors deployed at even 5 ft intervals. The seisemic source consisted of repeated 20lb hammer blows (3x) on an aluminum striking plate. The team could move the source position around to generate different record sections. Figure 2 shows one of the 24-channel record sections, which contains data from zero time to 0.160 seconds, by way of an example. \n",
    "\n",
    "##### Figure 1. Photograph and topography map of the site. The photograph is view east, and the topographic map is oriented with north at the top of the page.\n",
    "\n",
    "<img src='fig1a.png'>\n",
    "<img src='fig1b.png'>\n",
    "\n",
    "##### Figure 2. An example survey record section from one shot. There is a very clear refracted arrival beyond geophone 8. Later phases are secondary P-waves and surface waves.\n",
    "\n",
    "<img src='fig2.jpg'>\n"
   ]
  },
  {
   "cell_type": "markdown",
   "metadata": {},
   "source": [
    "##### Figure 3 Seismic record section for source position located 5 ft south of the array. This figure limits the time axis from zero to 0.06 seconds for the purposes of your analysis.\n",
    "\n",
    "<img src='fig3.jpg'>\n",
    "\n",
    "##### Figure 4 Seismic record section for source position located 5 ft north of the array.\n",
    "<img src='fig4.jpg'>\n",
    "\n",
    "##### Figure 5 Seismic record section for source position located between geophones 12 and 13 \n",
    "<img src='fig5.jpg'>"
   ]
  },
  {
   "cell_type": "markdown",
   "metadata": {},
   "source": [
    "#### Question 1\n",
    "\n",
    "For each of the record sections sketch in a zero time line, and identify the shot location using a filled circle. The figures are in the current directory (labeled fig3.jpg, fig4.jpg, fig5.jpg). Please complete this question digitally by annotating the image, or print the image and use a pen/pencil.\n",
    "\n",
    "\n",
    "\n",
    "#### Question 2\n",
    "For each of the record sections use a straight edge ruler to identify were changes in slope occur, and to estimate the apparent velocity of interpreted layers. Tabulate your results for layers 1 and 2. Are their any deviations from the assumption of a straight line fit to the refracted arrivals?\n",
    "\n",
    "#### Answer"
   ]
  },
  {
   "cell_type": "markdown",
   "metadata": {},
   "source": []
  },
  {
   "cell_type": "markdown",
   "metadata": {},
   "source": [
    "#### Question 3\n",
    "For the two off end shots (Figures 3 and 4) determine a solution for a single dipping layer problem. Figure 6 gives the geometry and equations for the two-layer problem.\n",
    "\n",
    "Note: $T$ are the intercept times. $i$ are the angle of incidence, $\\alpha$ is the dip of the layer, and $V_0$, $V_{1d}$, $V_{1u}$, and $V_1$ are the velocities of the upper layer (average from all three profiles), the down dip apparent velocity of the deeper layer, the up dip apparent velocity of the deeper layer, and the actual velocity of the deeper layer. The down dip apparent velocity, $V_{1d}$, is less than the up dip apparent velocity of the refractor."
   ]
  },
  {
   "cell_type": "markdown",
   "metadata": {},
   "source": [
    "<img src='fig6.jpg'>"
   ]
  },
  {
   "cell_type": "markdown",
   "metadata": {},
   "source": [
    "#### Answer:\n",
    "\n"
   ]
  },
  {
   "cell_type": "code",
   "execution_count": null,
   "metadata": {},
   "outputs": [],
   "source": []
  },
  {
   "cell_type": "markdown",
   "metadata": {},
   "source": [
    "#### Question 4\n",
    "For the two off-end shots (Figures 3 and 4) make individual phase arrival picks and tabulate them. Use the code provided to perform inversions for the plane-layered velocity model considering both one and two dipping layers. Test the uncertainty in the model parameters based on your assessment of uncertainties in the traveltime measurements.\n"
   ]
  },
  {
   "cell_type": "code",
   "execution_count": 322,
   "metadata": {},
   "outputs": [],
   "source": [
    "def seisrefract(x,t,fr,w,c):\n",
    "    '''\n",
    "    Program to compute model velocities from array geometry traveltime picks.\n",
    "    \n",
    "    Inputs:\n",
    "      x  : distance vector in feet [np.array]\n",
    "      t  : measured arrival time picks in seconds [np.array]\n",
    "      fr : 1=forward; 2=reverse designation of line [int]\n",
    "      w  : velocity model layer designation [np.array] \n",
    "                1 = velocity1 in the velocity model, 2 = velocity2, etc.\n",
    "                0 = not used\n",
    "      c  : color of line to plot [str]\n",
    "      \n",
    "    Outputs:\n",
    "      t01, p1, tt1\n",
    "      \n",
    "    '''\n",
    "    \n",
    "    # set some initial startup variables\n",
    "    numline=max(w);\n",
    "    zero=np.where(w==0)[0];\n",
    "    zflag=len(zero);\n",
    "    t01=[];\n",
    "    p1 =[];\n",
    "\n",
    "    # for-loop over each velocity in the model\n",
    "    for J in np.arange(1,numline+1,1):\n",
    "        \n",
    "        # Find Values to use in regressions\n",
    "        k=np.where(w==J)[0];\n",
    "        tmp=np.ones(size(k));\n",
    "        X=np.column_stack([tmp.T, x[k].T]);\n",
    "\n",
    "        # Least-squares solution because matrix is non-square\n",
    "        a=np.linalg.lstsq(X, t[k].T)[0]\n",
    "        t01.append(a[0])\n",
    "        p1.append(a[1])\n",
    "        tt1=a[0]+a[1]*x;\n",
    "        linex1=x[k];\n",
    "        linet1=tt1[k];\n",
    "\n",
    "        # Plotting\n",
    "        if fr == 1:\n",
    "            plt.plot(linex1,linet1,'-',color=c)\n",
    "            plt.plot(x,t,'o',color=c,markerfacecolor='w',markersize=10)\n",
    "        elif fr == 0:\n",
    "            plt.plot(max(x)-linex1,linet1,'-',color=c)\n",
    "            plt.plot(abs(x-max(x)),t,'o',color=c,markerfacecolor='w',markersize=10)\n",
    "    \n",
    "    #  X-out the measurements not assigned to a velocity model (and not used in the inversion)\n",
    "    if(zflag > 0):\n",
    "        if fr ==1:\n",
    "            plt.plot(x[zero],t[zero],marker='+',lw=0,color='k')\n",
    "        elif fr ==0:\n",
    "            plt.plot(abs(x[zero]-max(x)),t[zero],marker='+',lw=0,color='k')\n",
    "            \n",
    "    # Add labels\n",
    "    plt.title('Traveltime Plot',fontsize=20)\n",
    "    plt.xlabel('Distance (ft)',fontsize=18)\n",
    "    plt.ylabel('Time (sec)',fontsize=18)\n",
    "    plt.tight_layout()\n",
    "    \n",
    "    return t01,p1,tt1"
   ]
  },
  {
   "cell_type": "code",
   "execution_count": 2,
   "metadata": {},
   "outputs": [
    {
     "ename": "SyntaxError",
     "evalue": "invalid syntax (<ipython-input-2-621aad659d84>, line 2)",
     "output_type": "error",
     "traceback": [
      "\u001b[0;36m  File \u001b[0;32m\"<ipython-input-2-621aad659d84>\"\u001b[0;36m, line \u001b[0;32m2\u001b[0m\n\u001b[0;31m    x= #*****\u001b[0m\n\u001b[0m             ^\u001b[0m\n\u001b[0;31mSyntaxError\u001b[0m\u001b[0;31m:\u001b[0m invalid syntax\n"
     ]
    }
   ],
   "source": [
    "#Enter the Distance Vector (ft)\n",
    "x= #*****\n",
    "\n",
    "#Correct for initial 2.5ft offset of first geophone\n",
    "#*****\n",
    "\n",
    "#Enter the Measured Arrival Times for forward line (milliseconds) \n",
    "t1=np.array([ ]); #*****\n",
    "\n",
    "#Enter the Measured Arrival Times  for reverse line (milliseconds) \n",
    "t2=np.array([  ]); #*****\n",
    "\n",
    "#Entered measurements above should be in units of (milliseconds), but we need sec. Multiply by this factor...\n",
    "timebase=0.001; \n",
    "t1 = timebase*t1\n",
    "t2 = timebase*t2\n",
    "\n",
    "#Enter the curve designator for forward line\n",
    "# Note: len(w1) == len(t1)\n",
    "w1=np.array([ ]); #*****\n",
    "\n",
    "#Enter the curve designator for reverse line\n",
    "w2=np.array([ ]); #*****\n",
    "\n",
    "#Execute seisRefract for each model layer\n",
    "plt.figure(figsize=(8,8))\n",
    "t01,p1,tt1 = seisrefract(x,t1,1,w1,'blue')\n",
    "t02,p2,tt2 = seisrefract(x,t2,0,w2,'red')"
   ]
  },
  {
   "cell_type": "code",
   "execution_count": 324,
   "metadata": {},
   "outputs": [
    {
     "data": {
      "text/plain": [
       "(0, 115.0)"
      ]
     },
     "execution_count": 324,
     "metadata": {},
     "output_type": "execute_result"
    },
    {
     "data": {
      "image/png": "[encoded data removed]",
      "text/plain": [
       "<Figure size 576x576 with 1 Axes>"
      ]
     },
     "metadata": {
      "needs_background": "light"
     },
     "output_type": "display_data"
    }
   ],
   "source": [
    "# Find average upper velocity\n",
    "V0=(1/p1[0] + 1/p2[0])/2;\n",
    "V0a=1/p1[0];\n",
    "V0b=1/p2[0];\n",
    "T0a=t01[0];\n",
    "T0b=t02[0];\n",
    "V1a=1/p1[1];\n",
    "V1b=1/p2[1];\n",
    "T1a=t01[1];\n",
    "T1b=t02[1];\n",
    "\n",
    "i1=0.5*(np.arcsin(V0/V1a)+np.arcsin(V0/V1b));\n",
    "o1=0.5*(np.arcsin(V0/V1b)-np.arcsin(V0/V1a));\n",
    "\n",
    "V1=V0/np.sin(i1);\n",
    "\n",
    "z1a=V0*T1a/(2*np.cos(i1));\n",
    "z1b=V0*T1b/(2*np.cos(i1));\n",
    "\n",
    "h1a=z1a/np.cos(o1);\n",
    "h1b=z1b/np.cos(o1);\n",
    "\n",
    "#add Next Layer for a 3-layer velocity model\n",
    "if(numline == 3):\n",
    "\n",
    "    V2a=1/p1[2];\n",
    "    V2b=1/p2[2];\n",
    "    T2a=t01[2];\n",
    "    T2b=t02[2];\n",
    "\n",
    "    b21=asin(V0/V2a)+o1;\n",
    "    a21=asin(V0/V2b)-o1;\n",
    "    g21=asin(V1/V0*np.sin(a21));\n",
    "    d21=asin(V1/V0*np.sin(b21));\n",
    "    i2=(g21+d21)/2;\n",
    "    o2=(g21-d21)/2 - o1;\n",
    "    V2=V1/np.sin(i2);\n",
    "\n",
    "    z2a=V1*(T2a-z1a/V0*(np.cos(a21+b21)+1)/np.cos(a21))/2/np.cos(i2);\n",
    "    z2b=V1*(T2b-z1b/V0*(np.cos(a21+b21)+1)/np.cos(b21))/2/np.cos(i2);\n",
    "\n",
    "    h2a=1/np.cos(o2)*(z1a*np.cos(a21-o2+o1)/np.cos(a21)+z2a);\n",
    "    h2b=1/np.cos(o2)*(z1b*np.cos(b21+o2-o1)/np.cos(b21)+z2b);\n",
    "    \n",
    "fig,ax = plt.subplots(1,1,figsize=(8,8))\n",
    "\n",
    "# Add labels\n",
    "plt.title('Velocity Cross Section',fontsize=20)\n",
    "plt.xlabel('distance (ft)',fontsize=18)\n",
    "plt.ylabel('depth (ft)',fontsize=18)\n",
    "plt.tight_layout()\n",
    "\n",
    "dx = 5\n",
    "xx=np.arange(x[0], x[len(x)-1]+dx, dx);\n",
    "yy=np.linspace(h1a, h1b, len(xx));\n",
    "plt.plot(xx,yy,'m')\n",
    "ax.text((x[m-1]-x[1])/2,h1a/2,'%.02f ft/sec' % V0,fontsize=20)\n",
    "ax.text((x[m-1]-x[1])/2,(h1a+h1b)/2+15,'%.02f ft/sec' % V1,fontsize=20)\n",
    "\n",
    "if(numline == 3):\n",
    "    yy=np.linspace(h2a, h2b, len(xx));\n",
    "    plt.plot(xx,yy,'b')\n",
    "    ax.text((x[m-1]-x[2])/2,(h2a+h2b)/2+15,'%.02f ft/sec' % V2,fontsize=20)\n",
    "\n",
    "plt.ylim([max(yy)*4,0])\n",
    "plt.xlim([0,max(x)])"
   ]
  },
  {
   "cell_type": "code",
   "execution_count": 3,
   "metadata": {},
   "outputs": [
    {
     "ename": "NameError",
     "evalue": "name 'V0a' is not defined",
     "output_type": "error",
     "traceback": [
      "\u001b[0;31m---------------------------------------------------------------------------\u001b[0m",
      "\u001b[0;31mNameError\u001b[0m                                 Traceback (most recent call last)",
      "\u001b[0;32m<ipython-input-3-d816a892dcd7>\u001b[0m in \u001b[0;36m<module>\u001b[0;34m\u001b[0m\n\u001b[1;32m      1\u001b[0m \u001b[0;31m#Write results to screen\u001b[0m\u001b[0;34m\u001b[0m\u001b[0;34m\u001b[0m\u001b[0;34m\u001b[0m\u001b[0m\n\u001b[0;32m----> 2\u001b[0;31m \u001b[0mprint\u001b[0m\u001b[0;34m(\u001b[0m\u001b[0;34m'V0a = %.0f  T0a = %f  V0b = %.0f  T0b = %f\\n'\u001b[0m \u001b[0;34m%\u001b[0m \u001b[0;34m(\u001b[0m\u001b[0mV0a\u001b[0m\u001b[0;34m,\u001b[0m\u001b[0mT0a\u001b[0m\u001b[0;34m,\u001b[0m\u001b[0mV0b\u001b[0m\u001b[0;34m,\u001b[0m\u001b[0mT0b\u001b[0m\u001b[0;34m)\u001b[0m\u001b[0;34m)\u001b[0m\u001b[0;34m\u001b[0m\u001b[0;34m\u001b[0m\u001b[0m\n\u001b[0m\u001b[1;32m      3\u001b[0m \u001b[0mprint\u001b[0m\u001b[0;34m(\u001b[0m\u001b[0;34m'V1a=%.0f  T1a=%f  V1b=%.0f  T1b=%f\\n'\u001b[0m \u001b[0;34m%\u001b[0m \u001b[0;34m(\u001b[0m\u001b[0mV1a\u001b[0m\u001b[0;34m,\u001b[0m\u001b[0mT1a\u001b[0m\u001b[0;34m,\u001b[0m\u001b[0mV1b\u001b[0m\u001b[0;34m,\u001b[0m\u001b[0mT1b\u001b[0m\u001b[0;34m)\u001b[0m\u001b[0;34m)\u001b[0m\u001b[0;34m\u001b[0m\u001b[0;34m\u001b[0m\u001b[0m\n\u001b[1;32m      4\u001b[0m \u001b[0;32mif\u001b[0m \u001b[0;34m(\u001b[0m\u001b[0mnumline\u001b[0m \u001b[0;34m==\u001b[0m \u001b[0;36m3\u001b[0m\u001b[0;34m)\u001b[0m\u001b[0;34m:\u001b[0m\u001b[0;34m\u001b[0m\u001b[0;34m\u001b[0m\u001b[0m\n\u001b[1;32m      5\u001b[0m     \u001b[0mprint\u001b[0m\u001b[0;34m(\u001b[0m\u001b[0;34m'V2a=%.0f  T2a=%f  V2b=%.0f  T2b=%f\\n'\u001b[0m \u001b[0;34m%\u001b[0m \u001b[0;34m(\u001b[0m\u001b[0mV2a\u001b[0m\u001b[0;34m,\u001b[0m\u001b[0mT2a\u001b[0m\u001b[0;34m,\u001b[0m\u001b[0mV2b\u001b[0m\u001b[0;34m,\u001b[0m\u001b[0mT2b\u001b[0m\u001b[0;34m)\u001b[0m\u001b[0;34m)\u001b[0m\u001b[0;34m\u001b[0m\u001b[0;34m\u001b[0m\u001b[0m\n",
      "\u001b[0;31mNameError\u001b[0m: name 'V0a' is not defined"
     ]
    }
   ],
   "source": [
    "#Write results to screen\n",
    "print('V0a = %.0f  T0a = %f  V0b = %.0f  T0b = %f\\n' % (V0a,T0a,V0b,T0b))\n",
    "print('V1a=%.0f  T1a=%f  V1b=%.0f  T1b=%f\\n' % (V1a,T1a,V1b,T1b))\n",
    "if (numline == 3):\n",
    "    print('V2a=%.0f  T2a=%f  V2b=%.0f  T2b=%f\\n' % (V2a,T2a,V2b,T2b))\n",
    "print('\\n\\n')\n",
    "print('Depth(ft)    Depth(ft)     Velocity(ft/sec)\\n')\n",
    "print('   0            0             %.0f\\n' % (V0))\n",
    "print('  %.1f         %.1f            %.0f\\n' % (h1a, h1b, V1))\n",
    "if(numline == 3):\n",
    "    print('  %.1f         %.1f          %.0f\\n' % (h2a, h2b, V2))"
   ]
  },
  {
   "cell_type": "markdown",
   "metadata": {},
   "source": [
    "#### Answer"
   ]
  },
  {
   "cell_type": "code",
   "execution_count": null,
   "metadata": {},
   "outputs": [],
   "source": []
  },
  {
   "cell_type": "markdown",
   "metadata": {},
   "source": [
    "#### Question 5\n",
    "Provide an interpretation of your results in terms of the types of materials, the geometry of the subsurface layers, and any deviation from the assumed plane-dipping model (straight line fit to the observations).\n",
    "\n",
    "#### Answer"
   ]
  },
  {
   "cell_type": "code",
   "execution_count": null,
   "metadata": {},
   "outputs": [],
   "source": []
  }
 ],
 "metadata": {
  "anaconda-cloud": {},
  "kernelspec": {
   "display_name": "Python 3",
   "language": "python",
   "name": "python3"
  },
  "language_info": {
   "codemirror_mode": {
    "name": "ipython",
    "version": 3
   },
   "file_extension": ".py",
   "mimetype": "text/x-python",
   "name": "python",
   "nbconvert_exporter": "python",
   "pygments_lexer": "ipython3",
   "version": "3.7.1"
  }
 },
 "nbformat": 4,
 "nbformat_minor": 2
}
