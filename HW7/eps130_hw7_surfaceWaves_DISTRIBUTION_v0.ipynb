{
 "cells": [
  {
   "cell_type": "markdown",
   "metadata": {},
   "source": [
    "# Surface Wave Analysis\n",
    "\n",
    "### Introduction\n",
    "\n",
    "All surface waves, except Rayleigh waves in an isotropic half-space, exhibit dispersion, meaning waves traveling with different frequencies propagate with different speeds. As we have discussed previously seismic waves of a particular frequency travel with a phase velocity c(T). But, seismic sources radiate a spectrum of frequencies, which due to dispersion, interfere constuctively and destructively as they propagate. This gives rise to the concept of a \"group velocity\" U(T) which describes how a particular wave packet propagates. Please refer to Lay and Wallace Chapter 4.4 for more detail.\n",
    "\n",
    "The dispersion of Love waves with period $T$ traveling with phase velocity $c(T)$, for layer 1 (crust) over half-space 2 (mantle), with repspective S-wave velocities $\\beta_1$, $\\beta_2$ and rigidity moduli $\\mu_1, \\mu_2$, is given by:\n",
    "\n",
    "$$\n",
    "\\tan ( \\frac{2 \\pi}{T}H \\sqrt{\\frac{1}{\\beta_1^2} - \\frac{1}{c^2}} ) = \\frac{\\mu_2}{\\mu_1}\\frac{\\sqrt{\\frac{1}{c^2} - \\frac{1}{\\beta_2^2}}}{\\sqrt{\\frac{1}{\\beta_1^2} - \\frac{1}{c^2}}}; \\beta_1 \\leq c \\leq \\beta_2\n",
    "$$\n",
    "\n",
    "To understand where this relationship comes from see Figure 4.9 (shown here) and the description from Lay and Wallace.\n",
    "\n",
    "<img src='fig2.png'>\n",
    "\n",
    "The model group velocity dispersion relationship:\n",
    "\n",
    "$$\n",
    "U(T) = \\frac{c(T)}{1+\\frac{T}{c(T)}\\frac{dc(T)}{dT}}\n",
    "$$\n",
    "\n",
    "### Objective \n",
    "In this exercise, we will investigate the dispersive properties of seismic waves traveling near a free surface.\n",
    "\n",
    "### Instructions on how to complete this notebook\n",
    "Use the code provided in this Jupyter Notebook to analyze the provided questions in each part of the assignment, and then answer the questions to complete the homework. Submit your completed notebook either in a *.pdf or *.ipynb format. Write your answers either embedded as Markdown inside the notebook, or attached in a separate *.doc or *.pdf document.\n",
    "\n",
    "### Due Date\n",
    "Please submit your homework to natelindsey@berkeley.edu before Tuesday April 16, 2019 at 11:59 pm."
   ]
  },
  {
   "cell_type": "code",
   "execution_count": 10,
   "metadata": {},
   "outputs": [],
   "source": [
    "#Initial Setup and Subroutine Definitions\n",
    "import pandas as pd\n",
    "import numpy as np\n",
    "import matplotlib\n",
    "import matplotlib.pyplot as plt"
   ]
  },
  {
   "cell_type": "markdown",
   "metadata": {},
   "source": [
    "### Exercise\n",
    "On February 13, 2015 a Mw 7.1 earthquake occurred on the Mid Atlantic Ridge. Surface waves from this event traversed the North American plate in which the\n",
    "majority of the path was continental. The distance traveled was 6,797 km. The\n",
    "source mechanism of the earthquake was such that it generated strong Love waves. Figure 2 shows the Love wave packet observed at the Berkeley Strawberry Canyon\n",
    "station BKS. \n",
    "\n",
    "<img src='fig1.png'>\n",
    "\n",
    "\n",
    "Using the method of instantaneous periods estimate the group velocity,\n",
    "U(T), dispersion curve for the event. Peaks and troughs are labeled in Figure 1, with zero crossing labeled in quarter steps (e.g. 0.25, 0.75, etc). \n",
    "\n",
    "Given your\n",
    "estimate of U(T) then apply the Love wave dispersion equation to estimate phase\n",
    "velocity c(T) and convert to U(T) for the model to determine the average crustal\n",
    "thickness along the path.\n"
   ]
  },
  {
   "cell_type": "markdown",
   "metadata": {},
   "source": [
    "#### Question 1\n",
    "\n",
    "Tabulate instantaneous period measurements of group velocity from the record\n",
    "given in Figure 1. \n",
    "\n",
    "Plot U(T) for each of the zero crossings, peaks and troughs, and fit a smooth line to the data to illustrate the group velocity dispersion curve.\n",
    "\n",
    "#### Answer:"
   ]
  },
  {
   "cell_type": "markdown",
   "metadata": {},
   "source": []
  },
  {
   "cell_type": "markdown",
   "metadata": {},
   "source": [
    "#### Question 2\n",
    "\n",
    "The surface waves recorded at BKS passed through the lithosphere. Lithospheric seismic velocity can be described as a two-layer system with an upper mantle shear wave velocity of 4.5 km/s underlying an average crustal velocity of 3.5 km/s). Explore how phase velocity dispersion, $c(T)$, relates to crustal thickness, H (i.e., the layer interface).\n",
    "\n",
    "\n",
    "Hint: In the global seismology context we are interested in seismic energy falling in the period range T = 10 - 100 seconds (frequency = 0.1 - 0.01 Hz). \n",
    "\n",
    "Plot the phase velocity for an appropriate range of crustal thicknesses.\n",
    "\n",
    "Assume $\\frac{μ2}{μ1} = 1.8$.\n",
    "#### Answer:"
   ]
  },
  {
   "cell_type": "code",
   "execution_count": null,
   "metadata": {},
   "outputs": [],
   "source": []
  },
  {
   "cell_type": "markdown",
   "metadata": {},
   "source": [
    "#### Question 3\n",
    "Plot group velocity U(T) and compare it with the BKS recorded data."
   ]
  },
  {
   "cell_type": "markdown",
   "metadata": {},
   "source": [
    "#### Answer:"
   ]
  },
  {
   "cell_type": "markdown",
   "metadata": {},
   "source": []
  },
  {
   "cell_type": "markdown",
   "metadata": {},
   "source": [
    "#### Question 4\n",
    "What is the average crustal thickness along the path? What are some\n",
    "complications along the path that can lead to differences between the\n",
    "observed and predicted dispersion relationships, which assume a simple\n",
    "single layer Earth model?\n",
    "\n",
    "#### Answer:"
   ]
  },
  {
   "cell_type": "code",
   "execution_count": null,
   "metadata": {},
   "outputs": [],
   "source": []
  }
 ],
 "metadata": {
  "anaconda-cloud": {},
  "kernelspec": {
   "display_name": "Python 3",
   "language": "python",
   "name": "python3"
  },
  "language_info": {
   "codemirror_mode": {
    "name": "ipython",
    "version": 3
   },
   "file_extension": ".py",
   "mimetype": "text/x-python",
   "name": "python",
   "nbconvert_exporter": "python",
   "pygments_lexer": "ipython3",
   "version": "3.7.1"
  }
 },
 "nbformat": 4,
 "nbformat_minor": 2
}
