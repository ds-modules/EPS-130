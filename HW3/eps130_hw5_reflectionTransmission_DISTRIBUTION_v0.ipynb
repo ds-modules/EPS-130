{
 "cells": [
  {
   "cell_type": "markdown",
   "metadata": {},
   "source": [
    "# Wave Interactions - Reflection & Transmission Coefficients\n",
    "\n",
    "### Introduction\n",
    "It is often reasonable to assume seismic waves propagate through the Earth as plane waves, with wavefronts of constant thickness -- in other words we have think of the seismic energy traveling as a ray. This simplification allows us to apply Snell's Law and the Law of Reflection to describe the path that seismic energy takes through the the crust.\n",
    "\n",
    "The ray parameter, $p$, is a form of Snell's Law:\n",
    "$$\n",
    "p = \\frac{Sin(i_2)}{\\beta_2} = \\frac{Sin(i_1)}{\\beta_1}\n",
    "$$\n",
    "\n",
    "\n",
    "\n",
    "### Objective \n",
    "\n",
    "In this exercise, we will investigate how seismic waves move through interfaces. We will describe the refraction and reflection using transmission and reflection coefficients, respectively, which depend on geologic properties of the layer (e.g., seismic wave speed, density), angle of incidence.\n",
    "\n",
    "\n",
    "### Instructions on how to complete this notebook\n",
    "Use the code provided in this Jupyter Notebook to analyze the provided questions in each part of the assignment, and then answer the questions to complete the homework. Submit your completed notebook either in a *.pdf or *.ipynb format. Write your answers either embedded as Markdown inside the notebook, or attached in a separate *.doc or *.pdf document.\n",
    "\n",
    "### Due Date\n",
    "Please submit your homework to natelindsey@berkeley.edu before Tuesday March 19, 2019 at 11:59 pm."
   ]
  },
  {
   "cell_type": "code",
   "execution_count": 1,
   "metadata": {},
   "outputs": [],
   "source": [
    "#Initial Setup and Subroutine Definitions\n",
    "import math\n",
    "import datetime\n",
    "from numpy import *\n",
    "from scipy import stats\n",
    "import matplotlib\n",
    "import matplotlib.pyplot as plt\n",
    "import pandas as pd"
   ]
  },
  {
   "cell_type": "markdown",
   "metadata": {},
   "source": [
    "# Exercise 1 \n",
    "\n",
    "You are planning a seismic experiment with the geometry shown in Figure 1. The aim is to characterize the lateral extent of the layer interface. You have 16 short-period seismometers for this experiment. The planned source depth is 1 km (h=1km). You will arange the seismometers in a straight line beginning from x=0 (above the source) out to some maximum offset. Your boss tells you to use a station spacing of 250 m. In designing the experiment, you want to record both the direct wave (red) and the multiple wave (blue) shown below. \n",
    "\n",
    "Assume $\\beta_1$ = 2 km/s, $\\beta_2$ = 3.5 km/s, $\\rho_1$ = 2 g/cc, $\\rho_2$ = 2.6 g/cc, z=0.6 km.\n",
    "\n",
    "<img src='fig1.png'>\n",
    "\n",
    "\n",
    "#### Question 1.1\n",
    "Find the first arrival times of the direct wave and multiple wave pictured above for a source depth of h=1 km, 1.5 km and 3 km at x = 1 km, 5 km and 10 km. Note the source take-off angle for each case. Plot distance vs arrival time.\n",
    "\n",
    "#### Answer\n",
    "Hint: This question hinges on how much the up-going ray will refract at the interface. Let the angle of incidence be $i_2$ (because it is in the bottom layer 2), and the angle of transmission into layer 1 (top) be $i_1$. Consider using the function scipy.optimize.fsolve to search over a range of angles of incidence given the conditions on h and x."
   ]
  },
  {
   "cell_type": "code",
   "execution_count": null,
   "metadata": {},
   "outputs": [],
   "source": []
  },
  {
   "cell_type": "markdown",
   "metadata": {},
   "source": [
    "#### Question 1.2\n",
    "Assume you choose to proceed with a source depth of 1.5 km. How long will you need to record for following the source detonation? Plot your solution in terms of take-off angle. \n",
    "\n",
    "#### Answer"
   ]
  },
  {
   "cell_type": "code",
   "execution_count": null,
   "metadata": {},
   "outputs": [],
   "source": []
  },
  {
   "cell_type": "markdown",
   "metadata": {},
   "source": [
    "#### Quesiton 1.3\n",
    "What is the expected amplitude ratio of the direct and multiple wave as a function of offset?\n",
    "\n",
    "#### Answer"
   ]
  },
  {
   "cell_type": "code",
   "execution_count": null,
   "metadata": {},
   "outputs": [],
   "source": []
  },
  {
   "cell_type": "markdown",
   "metadata": {},
   "source": [
    "#### Question 1.4\n",
    "Is 250m the correct station spacing? Why or why not? \n",
    "\n",
    "#### Answer"
   ]
  },
  {
   "cell_type": "code",
   "execution_count": null,
   "metadata": {},
   "outputs": [],
   "source": []
  },
  {
   "cell_type": "markdown",
   "metadata": {},
   "source": [
    "#### Quesiton 1.5\n",
    "Your boss says she has managed to secure extra budget to study the lateral variation in the thickness of the upper layer. You can either rent another 16 seismometers and extend your receiver line or double the depth of the source. Which do you do?\n",
    "\n",
    "#### Answer"
   ]
  },
  {
   "cell_type": "code",
   "execution_count": null,
   "metadata": {},
   "outputs": [],
   "source": []
  },
  {
   "cell_type": "markdown",
   "metadata": {},
   "source": [
    " \n",
    "\n",
    "#### Question 1.6\n",
    "Find arrival times and amplitudes of the direct wave and first mutiple wave for a source depth of 16 km assuming x=10 km. Repeat the exercise for x = 40km.\n",
    "\n",
    "#### Answer"
   ]
  },
  {
   "cell_type": "code",
   "execution_count": null,
   "metadata": {},
   "outputs": [],
   "source": []
  },
  {
   "cell_type": "markdown",
   "metadata": {},
   "source": [
    "#### Question 1.7\n",
    "Discuss how well the direct vs. multiple wave amplitudes could be used to determine source depth.\n",
    "\n",
    "#### Answer"
   ]
  },
  {
   "cell_type": "markdown",
   "metadata": {},
   "source": []
  },
  {
   "cell_type": "markdown",
   "metadata": {},
   "source": [
    "# Exercise 2\n",
    "\n",
    "This figure below shows SH motions for two earthquakes that occurred in Upland, CA in 1988 and were recorded in Pasadena, CA 40 km away. S1 and S2 identify the direct and first multiple S-waves. Perform the following analyses to estimate the depth of the two events.\n",
    "<img src='fig2.png'>\n",
    "\n",
    "\n",
    "\n",
    "#### Question 2.1\n",
    "Estimate the average S-wave amplitude for each of the waves. Do this by measuring the peak to peak amplitude and then dividing by 2. The figures are in the working directory if you would like to print them to measure by hand. Then determine the ratio of S2/S1 (this will be useful later to determine the relative depth of the events\n",
    "\n",
    "#### Answer"
   ]
  },
  {
   "cell_type": "markdown",
   "metadata": {},
   "source": []
  },
  {
   "cell_type": "markdown",
   "metadata": {},
   "source": [
    "#### Question 2.2\n",
    "Determine the difference in arrival time of the two waves.\n",
    "\n",
    "#### Answer"
   ]
  },
  {
   "cell_type": "markdown",
   "metadata": {},
   "source": []
  },
  {
   "cell_type": "markdown",
   "metadata": {},
   "source": [
    "#### Question 2.3\n",
    "Assume $b_1$=2.6 km/s, $r_1$ = 1.8 g/cc, $b_2$=3.5 km/s, $r_2$=2.67 g/cc, z=4\n",
    "\n",
    "Verify the timing of the two waves, and using the relative amplitudes of the two waves determine an approaximate source depth for both events. Note that you may not be able to fit values perfectly but you should be able to infer trends and compare the events in a relative sense.\n",
    "\n",
    "#### Answer"
   ]
  },
  {
   "cell_type": "code",
   "execution_count": null,
   "metadata": {},
   "outputs": [],
   "source": []
  },
  {
   "cell_type": "markdown",
   "metadata": {},
   "source": [
    "#### Question 2.4\n",
    "\n",
    "How sensitive is the relative timing of the wave to source depth compared to the relative amplitude?\n",
    "\n",
    "#### Answer"
   ]
  },
  {
   "cell_type": "code",
   "execution_count": null,
   "metadata": {},
   "outputs": [],
   "source": []
  },
  {
   "cell_type": "markdown",
   "metadata": {},
   "source": [
    "#### Question 2.5\n",
    "\n",
    "If there are mismatches try adjusting the model parameters (velocity, density) to examine the effect of the results.\n",
    "\n",
    "#### Answer"
   ]
  },
  {
   "cell_type": "markdown",
   "metadata": {},
   "source": []
  },
  {
   "cell_type": "markdown",
   "metadata": {},
   "source": [
    "#### Question 2.6\n",
    "Assuming a depth of 10 km, compare results for the original model in which the layer is 4 km thick, and one in which the layer is 7 km thick.  What happened to the timing of the arrivals and the amplitudes.\n",
    "\n",
    "#### Answer"
   ]
  },
  {
   "cell_type": "code",
   "execution_count": null,
   "metadata": {},
   "outputs": [],
   "source": []
  }
 ],
 "metadata": {
  "anaconda-cloud": {},
  "kernelspec": {
   "display_name": "Python 3",
   "language": "python",
   "name": "python3"
  },
  "language_info": {
   "codemirror_mode": {
    "name": "ipython",
    "version": 3
   },
   "file_extension": ".py",
   "mimetype": "text/x-python",
   "name": "python",
   "nbconvert_exporter": "python",
   "pygments_lexer": "ipython3",
   "version": "3.7.1"
  }
 },
 "nbformat": 4,
 "nbformat_minor": 2
}
